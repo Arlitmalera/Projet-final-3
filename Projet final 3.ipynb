{
 "cells": [
  {
   "cell_type": "code",
   "execution_count": 1,
   "id": "3df935dc",
   "metadata": {},
   "outputs": [
    {
     "name": "stdout",
     "output_type": "stream",
     "text": [
      "Entrez la durée du compte à rebours en secondes : 60\n",
      "Temps écoulé !\n"
     ]
    }
   ],
   "source": [
    "import time\n",
    "\n",
    "def countdown(t):\n",
    "    \"\"\"\n",
    "    Cette fonction exécute un compte à rebours de t secondes\n",
    "    \"\"\"\n",
    "    while t:\n",
    "        mins, secs = divmod(t, 60)\n",
    "        timer = '{:02d}:{:02d}'.format(mins, secs)\n",
    "        print(timer, end=\"\\r\")\n",
    "        time.sleep(1)\n",
    "        t -= 1\n",
    "\n",
    "    print('Temps écoulé !')\n",
    "\n",
    "# Entrée de l'utilisateur pour la longueur du compte à rebours\n",
    "t = input(\"Entrez la durée du compte à rebours en secondes : \")\n",
    "\n",
    "# Conversion en entier\n",
    "t = int(t)\n",
    "\n",
    "# Lancement du compte à rebours\n",
    "countdown(t)\n"
   ]
  }
 ],
 "metadata": {
  "kernelspec": {
   "display_name": "Python 3 (ipykernel)",
   "language": "python",
   "name": "python3"
  },
  "language_info": {
   "codemirror_mode": {
    "name": "ipython",
    "version": 3
   },
   "file_extension": ".py",
   "mimetype": "text/x-python",
   "name": "python",
   "nbconvert_exporter": "python",
   "pygments_lexer": "ipython3",
   "version": "3.9.13"
  }
 },
 "nbformat": 4,
 "nbformat_minor": 5
}
